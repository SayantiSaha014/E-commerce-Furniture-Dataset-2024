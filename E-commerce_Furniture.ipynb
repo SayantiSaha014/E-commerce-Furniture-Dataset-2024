{
 "cells": [
  {
   "cell_type": "code",
   "execution_count": 24,
   "id": "2850696f-8f8a-49ac-9676-3af07b0d9450",
   "metadata": {},
   "outputs": [],
   "source": [
    "# Import necessary libraries\n",
    "import pandas as pd\n",
    "import numpy as np\n",
    "import matplotlib.pyplot as plt\n",
    "import seaborn as sns\n",
    "from sklearn.model_selection import train_test_split\n",
    "from sklearn.linear_model import LinearRegression\n",
    "from sklearn.ensemble import RandomForestRegressor\n",
    "from sklearn.metrics import mean_squared_error, r2_score\n",
    "import warnings\n",
    "warnings.filterwarnings('ignore')"
   ]
  },
  {
   "cell_type": "code",
   "execution_count": 25,
   "id": "31fa9003-2e6d-4f31-a39c-685f56dbf396",
   "metadata": {},
   "outputs": [],
   "source": [
    "df = pd.read_csv(\"ecommerce_furniture_dataset_2024.csv\")"
   ]
  },
  {
   "cell_type": "code",
   "execution_count": 26,
   "id": "0507f39a-ecc8-415b-9565-8ae2a85af560",
   "metadata": {},
   "outputs": [
    {
     "data": {
      "text/html": [
       "<div>\n",
       "<style scoped>\n",
       "    .dataframe tbody tr th:only-of-type {\n",
       "        vertical-align: middle;\n",
       "    }\n",
       "\n",
       "    .dataframe tbody tr th {\n",
       "        vertical-align: top;\n",
       "    }\n",
       "\n",
       "    .dataframe thead th {\n",
       "        text-align: right;\n",
       "    }\n",
       "</style>\n",
       "<table border=\"1\" class=\"dataframe\">\n",
       "  <thead>\n",
       "    <tr style=\"text-align: right;\">\n",
       "      <th></th>\n",
       "      <th>productTitle</th>\n",
       "      <th>originalPrice</th>\n",
       "      <th>price</th>\n",
       "      <th>sold</th>\n",
       "      <th>tagText</th>\n",
       "    </tr>\n",
       "  </thead>\n",
       "  <tbody>\n",
       "    <tr>\n",
       "      <th>0</th>\n",
       "      <td>Dresser For Bedroom With 9 Fabric Drawers Ward...</td>\n",
       "      <td>NaN</td>\n",
       "      <td>$46.79</td>\n",
       "      <td>600</td>\n",
       "      <td>Free shipping</td>\n",
       "    </tr>\n",
       "    <tr>\n",
       "      <th>1</th>\n",
       "      <td>Outdoor Conversation Set 4 Pieces Patio Furnit...</td>\n",
       "      <td>NaN</td>\n",
       "      <td>$169.72</td>\n",
       "      <td>0</td>\n",
       "      <td>Free shipping</td>\n",
       "    </tr>\n",
       "    <tr>\n",
       "      <th>2</th>\n",
       "      <td>Desser For Bedroom With 7 Fabric Drawers Organ...</td>\n",
       "      <td>$78.4</td>\n",
       "      <td>$39.46</td>\n",
       "      <td>7</td>\n",
       "      <td>Free shipping</td>\n",
       "    </tr>\n",
       "    <tr>\n",
       "      <th>3</th>\n",
       "      <td>Modern Accent Boucle Chair,Upholstered Tufted ...</td>\n",
       "      <td>NaN</td>\n",
       "      <td>$111.99</td>\n",
       "      <td>0</td>\n",
       "      <td>Free shipping</td>\n",
       "    </tr>\n",
       "    <tr>\n",
       "      <th>4</th>\n",
       "      <td>Small Unit Simple Computer Desk Household Wood...</td>\n",
       "      <td>$48.82</td>\n",
       "      <td>$21.37</td>\n",
       "      <td>1</td>\n",
       "      <td>Free shipping</td>\n",
       "    </tr>\n",
       "  </tbody>\n",
       "</table>\n",
       "</div>"
      ],
      "text/plain": [
       "                                        productTitle originalPrice    price  \\\n",
       "0  Dresser For Bedroom With 9 Fabric Drawers Ward...           NaN   $46.79   \n",
       "1  Outdoor Conversation Set 4 Pieces Patio Furnit...           NaN  $169.72   \n",
       "2  Desser For Bedroom With 7 Fabric Drawers Organ...         $78.4   $39.46   \n",
       "3  Modern Accent Boucle Chair,Upholstered Tufted ...           NaN  $111.99   \n",
       "4  Small Unit Simple Computer Desk Household Wood...        $48.82   $21.37   \n",
       "\n",
       "   sold        tagText  \n",
       "0   600  Free shipping  \n",
       "1     0  Free shipping  \n",
       "2     7  Free shipping  \n",
       "3     0  Free shipping  \n",
       "4     1  Free shipping  "
      ]
     },
     "execution_count": 26,
     "metadata": {},
     "output_type": "execute_result"
    }
   ],
   "source": [
    "df.head()"
   ]
  },
  {
   "cell_type": "code",
   "execution_count": 27,
   "id": "a4ff4640-ba80-4464-be98-18103322ae53",
   "metadata": {},
   "outputs": [],
   "source": [
    "# Change column names\n",
    "df = df.rename(columns={'productTitle': 'ProductTitle', 'originalPrice': 'OriginalPrice', 'price': 'SellingPrice', 'sold': 'UnitsSold', 'tagText': 'TagText'})"
   ]
  },
  {
   "cell_type": "code",
   "execution_count": 28,
   "id": "a94dff68-5454-4fd2-84af-0e0ebde90c40",
   "metadata": {},
   "outputs": [
    {
     "data": {
      "text/plain": [
       "ProductTitle        0\n",
       "OriginalPrice    1513\n",
       "SellingPrice        0\n",
       "UnitsSold           0\n",
       "TagText             3\n",
       "dtype: int64"
      ]
     },
     "execution_count": 28,
     "metadata": {},
     "output_type": "execute_result"
    }
   ],
   "source": [
    "df.isnull().sum()"
   ]
  },
  {
   "cell_type": "code",
   "execution_count": 29,
   "id": "fde53d67-6f5d-43f8-b1ce-fe1be525823b",
   "metadata": {},
   "outputs": [],
   "source": [
    "# Dropping OriginalPrice column \n",
    "df=df.drop(['OriginalPrice'], axis=1)"
   ]
  },
  {
   "cell_type": "code",
   "execution_count": 30,
   "id": "a1cc5642-2ea6-4d59-83cb-0da75c14294e",
   "metadata": {},
   "outputs": [],
   "source": [
    "# change null values to 0\n",
    "df.fillna(0, inplace=True)"
   ]
  },
  {
   "cell_type": "code",
   "execution_count": 31,
   "id": "5ae0d84d-405d-4be8-aefa-53a716ee79a9",
   "metadata": {},
   "outputs": [],
   "source": [
    "# Remove '$' and ',' symbols from 'SellingPrice' and 'OriginalPrice' columns\n",
    "df['SellingPrice'] = df['SellingPrice'].astype(str).str.replace('$', '', regex=False).str.replace(',', '', regex=False)\n",
    "\n",
    "# Convert 'SellingPrice' and 'OriginalPrice' to numeric\n",
    "df['SellingPrice'] = pd.to_numeric(df['SellingPrice'])"
   ]
  },
  {
   "cell_type": "code",
   "execution_count": 32,
   "id": "6024164b-1366-4b0d-bdc6-8beb4b36f2b5",
   "metadata": {},
   "outputs": [
    {
     "name": "stdout",
     "output_type": "stream",
     "text": [
      "<class 'pandas.core.frame.DataFrame'>\n",
      "RangeIndex: 2000 entries, 0 to 1999\n",
      "Data columns (total 4 columns):\n",
      " #   Column        Non-Null Count  Dtype  \n",
      "---  ------        --------------  -----  \n",
      " 0   ProductTitle  2000 non-null   object \n",
      " 1   SellingPrice  2000 non-null   float64\n",
      " 2   UnitsSold     2000 non-null   int64  \n",
      " 3   TagText       2000 non-null   object \n",
      "dtypes: float64(1), int64(1), object(2)\n",
      "memory usage: 62.6+ KB\n"
     ]
    }
   ],
   "source": [
    "df.info()"
   ]
  },
  {
   "cell_type": "code",
   "execution_count": 33,
   "id": "b3102adf-8fa5-4cbd-b904-7b99069ebe99",
   "metadata": {},
   "outputs": [
    {
     "data": {
      "text/html": [
       "<div>\n",
       "<style scoped>\n",
       "    .dataframe tbody tr th:only-of-type {\n",
       "        vertical-align: middle;\n",
       "    }\n",
       "\n",
       "    .dataframe tbody tr th {\n",
       "        vertical-align: top;\n",
       "    }\n",
       "\n",
       "    .dataframe thead th {\n",
       "        text-align: right;\n",
       "    }\n",
       "</style>\n",
       "<table border=\"1\" class=\"dataframe\">\n",
       "  <thead>\n",
       "    <tr style=\"text-align: right;\">\n",
       "      <th></th>\n",
       "      <th>SellingPrice</th>\n",
       "      <th>UnitsSold</th>\n",
       "    </tr>\n",
       "  </thead>\n",
       "  <tbody>\n",
       "    <tr>\n",
       "      <th>count</th>\n",
       "      <td>2000.000000</td>\n",
       "      <td>2000.000000</td>\n",
       "    </tr>\n",
       "    <tr>\n",
       "      <th>mean</th>\n",
       "      <td>156.560020</td>\n",
       "      <td>23.493500</td>\n",
       "    </tr>\n",
       "    <tr>\n",
       "      <th>std</th>\n",
       "      <td>176.936735</td>\n",
       "      <td>254.094061</td>\n",
       "    </tr>\n",
       "    <tr>\n",
       "      <th>min</th>\n",
       "      <td>0.990000</td>\n",
       "      <td>0.000000</td>\n",
       "    </tr>\n",
       "    <tr>\n",
       "      <th>25%</th>\n",
       "      <td>48.530000</td>\n",
       "      <td>1.000000</td>\n",
       "    </tr>\n",
       "    <tr>\n",
       "      <th>50%</th>\n",
       "      <td>114.080000</td>\n",
       "      <td>3.000000</td>\n",
       "    </tr>\n",
       "    <tr>\n",
       "      <th>75%</th>\n",
       "      <td>193.490000</td>\n",
       "      <td>9.000000</td>\n",
       "    </tr>\n",
       "    <tr>\n",
       "      <th>max</th>\n",
       "      <td>2876.380000</td>\n",
       "      <td>10000.000000</td>\n",
       "    </tr>\n",
       "  </tbody>\n",
       "</table>\n",
       "</div>"
      ],
      "text/plain": [
       "       SellingPrice     UnitsSold\n",
       "count   2000.000000   2000.000000\n",
       "mean     156.560020     23.493500\n",
       "std      176.936735    254.094061\n",
       "min        0.990000      0.000000\n",
       "25%       48.530000      1.000000\n",
       "50%      114.080000      3.000000\n",
       "75%      193.490000      9.000000\n",
       "max     2876.380000  10000.000000"
      ]
     },
     "execution_count": 33,
     "metadata": {},
     "output_type": "execute_result"
    }
   ],
   "source": [
    "df.describe()"
   ]
  },
  {
   "cell_type": "code",
   "execution_count": 34,
   "id": "e641e48a-e980-450f-9218-425fec495008",
   "metadata": {},
   "outputs": [
    {
     "data": {
      "text/plain": [
       "(2000, 4)"
      ]
     },
     "execution_count": 34,
     "metadata": {},
     "output_type": "execute_result"
    }
   ],
   "source": [
    "df.shape"
   ]
  },
  {
   "cell_type": "code",
   "execution_count": 35,
   "id": "54eab075-544a-493b-96cf-eb6093852740",
   "metadata": {},
   "outputs": [],
   "source": [
    "# Add new column TotalCost = sellingprice*unitsSold\n",
    "df['TotalCost'] = df['SellingPrice'] * df['UnitsSold']"
   ]
  },
  {
   "cell_type": "code",
   "execution_count": 38,
   "id": "ea08b05a-d144-4b52-904a-a2b69e14e8b8",
   "metadata": {},
   "outputs": [
    {
     "data": {
      "text/html": [
       "<div>\n",
       "<style scoped>\n",
       "    .dataframe tbody tr th:only-of-type {\n",
       "        vertical-align: middle;\n",
       "    }\n",
       "\n",
       "    .dataframe tbody tr th {\n",
       "        vertical-align: top;\n",
       "    }\n",
       "\n",
       "    .dataframe thead th {\n",
       "        text-align: right;\n",
       "    }\n",
       "</style>\n",
       "<table border=\"1\" class=\"dataframe\">\n",
       "  <thead>\n",
       "    <tr style=\"text-align: right;\">\n",
       "      <th></th>\n",
       "      <th>ProductTitle</th>\n",
       "      <th>SellingPrice</th>\n",
       "      <th>UnitsSold</th>\n",
       "      <th>TagText</th>\n",
       "      <th>TotalCost</th>\n",
       "    </tr>\n",
       "  </thead>\n",
       "  <tbody>\n",
       "    <tr>\n",
       "      <th>656</th>\n",
       "      <td>Luxury Modern Tight Curved Back Velvet Sofa,Mi...</td>\n",
       "      <td>2876.38</td>\n",
       "      <td>0</td>\n",
       "      <td>Free shipping</td>\n",
       "      <td>0.0</td>\n",
       "    </tr>\n",
       "  </tbody>\n",
       "</table>\n",
       "</div>"
      ],
      "text/plain": [
       "                                          ProductTitle  SellingPrice  \\\n",
       "656  Luxury Modern Tight Curved Back Velvet Sofa,Mi...       2876.38   \n",
       "\n",
       "     UnitsSold        TagText  TotalCost  \n",
       "656          0  Free shipping        0.0  "
      ]
     },
     "execution_count": 38,
     "metadata": {},
     "output_type": "execute_result"
    }
   ],
   "source": [
    "# Most expensive product in stock\n",
    "df[df['SellingPrice'] == df['SellingPrice'].max()]"
   ]
  },
  {
   "cell_type": "code",
   "execution_count": 37,
   "id": "ae50a1aa-db5c-42f6-996b-7d8c98595616",
   "metadata": {},
   "outputs": [
    {
     "data": {
      "text/html": [
       "<div>\n",
       "<style scoped>\n",
       "    .dataframe tbody tr th:only-of-type {\n",
       "        vertical-align: middle;\n",
       "    }\n",
       "\n",
       "    .dataframe tbody tr th {\n",
       "        vertical-align: top;\n",
       "    }\n",
       "\n",
       "    .dataframe thead th {\n",
       "        text-align: right;\n",
       "    }\n",
       "</style>\n",
       "<table border=\"1\" class=\"dataframe\">\n",
       "  <thead>\n",
       "    <tr style=\"text-align: right;\">\n",
       "      <th></th>\n",
       "      <th>ProductTitle</th>\n",
       "      <th>SellingPrice</th>\n",
       "      <th>UnitsSold</th>\n",
       "      <th>TagText</th>\n",
       "      <th>TotalCost</th>\n",
       "    </tr>\n",
       "  </thead>\n",
       "  <tbody>\n",
       "    <tr>\n",
       "      <th>1008</th>\n",
       "      <td>Portable round Folding Chair Accordion Chair H...</td>\n",
       "      <td>12.28</td>\n",
       "      <td>10000</td>\n",
       "      <td>Free shipping</td>\n",
       "      <td>122800.0</td>\n",
       "    </tr>\n",
       "  </tbody>\n",
       "</table>\n",
       "</div>"
      ],
      "text/plain": [
       "                                           ProductTitle  SellingPrice  \\\n",
       "1008  Portable round Folding Chair Accordion Chair H...         12.28   \n",
       "\n",
       "      UnitsSold        TagText  TotalCost  \n",
       "1008      10000  Free shipping   122800.0  "
      ]
     },
     "execution_count": 37,
     "metadata": {},
     "output_type": "execute_result"
    }
   ],
   "source": [
    "# Most expensive product sold\n",
    "df[df['TotalCost'] == df['TotalCost'].max()]"
   ]
  },
  {
   "cell_type": "code",
   "execution_count": 40,
   "id": "2d13d6fb-822b-4354-8b44-a67b8f7b1b7a",
   "metadata": {},
   "outputs": [
    {
     "data": {
      "text/html": [
       "<div>\n",
       "<style scoped>\n",
       "    .dataframe tbody tr th:only-of-type {\n",
       "        vertical-align: middle;\n",
       "    }\n",
       "\n",
       "    .dataframe tbody tr th {\n",
       "        vertical-align: top;\n",
       "    }\n",
       "\n",
       "    .dataframe thead th {\n",
       "        text-align: right;\n",
       "    }\n",
       "</style>\n",
       "<table border=\"1\" class=\"dataframe\">\n",
       "  <thead>\n",
       "    <tr style=\"text-align: right;\">\n",
       "      <th></th>\n",
       "      <th>ProductTitle</th>\n",
       "      <th>SellingPrice</th>\n",
       "      <th>UnitsSold</th>\n",
       "      <th>TagText</th>\n",
       "      <th>TotalCost</th>\n",
       "    </tr>\n",
       "  </thead>\n",
       "  <tbody>\n",
       "    <tr>\n",
       "      <th>597</th>\n",
       "      <td>1PC Mini House Night Table Model Wooden Mini B...</td>\n",
       "      <td>0.99</td>\n",
       "      <td>7</td>\n",
       "      <td>Free shipping</td>\n",
       "      <td>6.93</td>\n",
       "    </tr>\n",
       "    <tr>\n",
       "      <th>958</th>\n",
       "      <td>Portable Wardrobe Closet Heavy Duty Hanger Fre...</td>\n",
       "      <td>0.99</td>\n",
       "      <td>2</td>\n",
       "      <td>Free shipping</td>\n",
       "      <td>1.98</td>\n",
       "    </tr>\n",
       "    <tr>\n",
       "      <th>1095</th>\n",
       "      <td>New Wholesale Simple Shoe Rack Multi-layer Spa...</td>\n",
       "      <td>0.99</td>\n",
       "      <td>43</td>\n",
       "      <td>Free shipping</td>\n",
       "      <td>42.57</td>\n",
       "    </tr>\n",
       "    <tr>\n",
       "      <th>1373</th>\n",
       "      <td>1 folding chair for home and outdoor use Conve...</td>\n",
       "      <td>0.99</td>\n",
       "      <td>85</td>\n",
       "      <td>Free shipping</td>\n",
       "      <td>84.15</td>\n",
       "    </tr>\n",
       "    <tr>\n",
       "      <th>1498</th>\n",
       "      <td>Office Desk Mat,Non-Slip PU Leather Desk Blott...</td>\n",
       "      <td>0.99</td>\n",
       "      <td>32</td>\n",
       "      <td>Free shipping</td>\n",
       "      <td>31.68</td>\n",
       "    </tr>\n",
       "    <tr>\n",
       "      <th>1567</th>\n",
       "      <td>1pc Sequin Inflatable Sofa Colorfull Sequin La...</td>\n",
       "      <td>0.99</td>\n",
       "      <td>26</td>\n",
       "      <td>Free shipping</td>\n",
       "      <td>25.74</td>\n",
       "    </tr>\n",
       "    <tr>\n",
       "      <th>1583</th>\n",
       "      <td>Card Folding Stool Portable Outdoor Camping an...</td>\n",
       "      <td>0.99</td>\n",
       "      <td>41</td>\n",
       "      <td>Free shipping</td>\n",
       "      <td>40.59</td>\n",
       "    </tr>\n",
       "    <tr>\n",
       "      <th>1586</th>\n",
       "      <td>1/12 Scale mini house Miniature Round Wooden C...</td>\n",
       "      <td>0.99</td>\n",
       "      <td>23</td>\n",
       "      <td>Free shipping</td>\n",
       "      <td>22.77</td>\n",
       "    </tr>\n",
       "  </tbody>\n",
       "</table>\n",
       "</div>"
      ],
      "text/plain": [
       "                                           ProductTitle  SellingPrice  \\\n",
       "597   1PC Mini House Night Table Model Wooden Mini B...          0.99   \n",
       "958   Portable Wardrobe Closet Heavy Duty Hanger Fre...          0.99   \n",
       "1095  New Wholesale Simple Shoe Rack Multi-layer Spa...          0.99   \n",
       "1373  1 folding chair for home and outdoor use Conve...          0.99   \n",
       "1498  Office Desk Mat,Non-Slip PU Leather Desk Blott...          0.99   \n",
       "1567  1pc Sequin Inflatable Sofa Colorfull Sequin La...          0.99   \n",
       "1583  Card Folding Stool Portable Outdoor Camping an...          0.99   \n",
       "1586  1/12 Scale mini house Miniature Round Wooden C...          0.99   \n",
       "\n",
       "      UnitsSold        TagText  TotalCost  \n",
       "597           7  Free shipping       6.93  \n",
       "958           2  Free shipping       1.98  \n",
       "1095         43  Free shipping      42.57  \n",
       "1373         85  Free shipping      84.15  \n",
       "1498         32  Free shipping      31.68  \n",
       "1567         26  Free shipping      25.74  \n",
       "1583         41  Free shipping      40.59  \n",
       "1586         23  Free shipping      22.77  "
      ]
     },
     "execution_count": 40,
     "metadata": {},
     "output_type": "execute_result"
    }
   ],
   "source": [
    "# Least priced products list\n",
    "df[df['SellingPrice'] == df['SellingPrice'].min()]"
   ]
  },
  {
   "cell_type": "code",
   "execution_count": null,
   "id": "b0e349ee-ba39-4b9e-98dc-dfde9a6105c2",
   "metadata": {},
   "outputs": [],
   "source": []
  }
 ],
 "metadata": {
  "kernelspec": {
   "display_name": "Python 3 (ipykernel)",
   "language": "python",
   "name": "python3"
  },
  "language_info": {
   "codemirror_mode": {
    "name": "ipython",
    "version": 3
   },
   "file_extension": ".py",
   "mimetype": "text/x-python",
   "name": "python",
   "nbconvert_exporter": "python",
   "pygments_lexer": "ipython3",
   "version": "3.12.7"
  }
 },
 "nbformat": 4,
 "nbformat_minor": 5
}
